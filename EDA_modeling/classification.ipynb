{
 "cells": [
  {
   "cell_type": "markdown",
   "source": [
    "Importing libraries"
   ],
   "metadata": {}
  },
  {
   "cell_type": "code",
   "execution_count": 1,
   "source": [
    "import spacy\n",
    "import pandas as pd\n",
    "import matplotlib.pyplot as plt\n",
    "import seaborn as sns\n",
    "import string\n",
    "from collections import Counter\n",
    "import numpy as np\n",
    "nlp = spacy.load(\"en_core_web_sm\")"
   ],
   "outputs": [],
   "metadata": {}
  },
  {
   "cell_type": "markdown",
   "source": [
    "Due to the the dataset containing over 5 million rows and 2 columns, the csv is opened as an iterator. Then, 1,000 rows are collected for analysis and modelling."
   ],
   "metadata": {}
  },
  {
   "cell_type": "code",
   "execution_count": 2,
   "source": [
    "raw_data = pd.read_csv('data.csv', iterator=True)"
   ],
   "outputs": [],
   "metadata": {}
  },
  {
   "cell_type": "code",
   "execution_count": 3,
   "source": [
    "data = raw_data.get_chunk(10000)\n",
    "data.head(20)"
   ],
   "outputs": [
    {
     "output_type": "execute_result",
     "data": {
      "text/html": [
       "<div>\n",
       "<style scoped>\n",
       "    .dataframe tbody tr th:only-of-type {\n",
       "        vertical-align: middle;\n",
       "    }\n",
       "\n",
       "    .dataframe tbody tr th {\n",
       "        vertical-align: top;\n",
       "    }\n",
       "\n",
       "    .dataframe thead th {\n",
       "        text-align: right;\n",
       "    }\n",
       "</style>\n",
       "<table border=\"1\" class=\"dataframe\">\n",
       "  <thead>\n",
       "    <tr style=\"text-align: right;\">\n",
       "      <th></th>\n",
       "      <th>text</th>\n",
       "      <th>label</th>\n",
       "    </tr>\n",
       "  </thead>\n",
       "  <tbody>\n",
       "    <tr>\n",
       "      <th>0</th>\n",
       "      <td>Apparently Prides Osteria had a rough summer a...</td>\n",
       "      <td>stars</td>\n",
       "    </tr>\n",
       "    <tr>\n",
       "      <th>1</th>\n",
       "      <td>This store is pretty good. Not as great as Wal...</td>\n",
       "      <td>stars</td>\n",
       "    </tr>\n",
       "    <tr>\n",
       "      <th>2</th>\n",
       "      <td>I called WVM on the recommendation of a couple...</td>\n",
       "      <td>stars</td>\n",
       "    </tr>\n",
       "    <tr>\n",
       "      <th>3</th>\n",
       "      <td>I've stayed at many Marriott and Renaissance M...</td>\n",
       "      <td>stars</td>\n",
       "    </tr>\n",
       "    <tr>\n",
       "      <th>4</th>\n",
       "      <td>The food is always great here. The service fro...</td>\n",
       "      <td>stars</td>\n",
       "    </tr>\n",
       "    <tr>\n",
       "      <th>5</th>\n",
       "      <td>This place used to be a cool, chill place. Now...</td>\n",
       "      <td>useful</td>\n",
       "    </tr>\n",
       "    <tr>\n",
       "      <th>6</th>\n",
       "      <td>The setting is perfectly adequate, and the foo...</td>\n",
       "      <td>stars</td>\n",
       "    </tr>\n",
       "    <tr>\n",
       "      <th>7</th>\n",
       "      <td>Probably one of the better breakfast sandwiche...</td>\n",
       "      <td>stars</td>\n",
       "    </tr>\n",
       "    <tr>\n",
       "      <th>8</th>\n",
       "      <td>I am definitely a fan of Sports Authority.  Th...</td>\n",
       "      <td>stars</td>\n",
       "    </tr>\n",
       "    <tr>\n",
       "      <th>9</th>\n",
       "      <td>I work in the Pru and this is the most afforda...</td>\n",
       "      <td>stars</td>\n",
       "    </tr>\n",
       "    <tr>\n",
       "      <th>10</th>\n",
       "      <td>They NEVER seem to get our \\norder correct, se...</td>\n",
       "      <td>stars</td>\n",
       "    </tr>\n",
       "    <tr>\n",
       "      <th>11</th>\n",
       "      <td>Disappointing. Bolt is a follow up of Fanny's ...</td>\n",
       "      <td>useful</td>\n",
       "    </tr>\n",
       "    <tr>\n",
       "      <th>12</th>\n",
       "      <td>I have been here twice and have had really goo...</td>\n",
       "      <td>stars</td>\n",
       "    </tr>\n",
       "    <tr>\n",
       "      <th>13</th>\n",
       "      <td>I wish I could give them zero stars. The call ...</td>\n",
       "      <td>stars</td>\n",
       "    </tr>\n",
       "    <tr>\n",
       "      <th>14</th>\n",
       "      <td>This is a five-star restaurant if ever I have ...</td>\n",
       "      <td>stars</td>\n",
       "    </tr>\n",
       "    <tr>\n",
       "      <th>15</th>\n",
       "      <td>Quickly stopped in for a UFC fight. I sat down...</td>\n",
       "      <td>stars</td>\n",
       "    </tr>\n",
       "    <tr>\n",
       "      <th>16</th>\n",
       "      <td>I loved everything about this place. I've only...</td>\n",
       "      <td>stars</td>\n",
       "    </tr>\n",
       "    <tr>\n",
       "      <th>17</th>\n",
       "      <td>Great coffee and pastries. Baristas are excell...</td>\n",
       "      <td>stars</td>\n",
       "    </tr>\n",
       "    <tr>\n",
       "      <th>18</th>\n",
       "      <td>Nothing special but good enough.  I like anoth...</td>\n",
       "      <td>stars</td>\n",
       "    </tr>\n",
       "    <tr>\n",
       "      <th>19</th>\n",
       "      <td>Definitely 5 stars for the donuts.  Our family...</td>\n",
       "      <td>stars</td>\n",
       "    </tr>\n",
       "  </tbody>\n",
       "</table>\n",
       "</div>"
      ],
      "text/plain": [
       "                                                 text   label\n",
       "0   Apparently Prides Osteria had a rough summer a...   stars\n",
       "1   This store is pretty good. Not as great as Wal...   stars\n",
       "2   I called WVM on the recommendation of a couple...   stars\n",
       "3   I've stayed at many Marriott and Renaissance M...   stars\n",
       "4   The food is always great here. The service fro...   stars\n",
       "5   This place used to be a cool, chill place. Now...  useful\n",
       "6   The setting is perfectly adequate, and the foo...   stars\n",
       "7   Probably one of the better breakfast sandwiche...   stars\n",
       "8   I am definitely a fan of Sports Authority.  Th...   stars\n",
       "9   I work in the Pru and this is the most afforda...   stars\n",
       "10  They NEVER seem to get our \\norder correct, se...   stars\n",
       "11  Disappointing. Bolt is a follow up of Fanny's ...  useful\n",
       "12  I have been here twice and have had really goo...   stars\n",
       "13  I wish I could give them zero stars. The call ...   stars\n",
       "14  This is a five-star restaurant if ever I have ...   stars\n",
       "15  Quickly stopped in for a UFC fight. I sat down...   stars\n",
       "16  I loved everything about this place. I've only...   stars\n",
       "17  Great coffee and pastries. Baristas are excell...   stars\n",
       "18  Nothing special but good enough.  I like anoth...   stars\n",
       "19  Definitely 5 stars for the donuts.  Our family...   stars"
      ]
     },
     "metadata": {},
     "execution_count": 3
    }
   ],
   "metadata": {}
  },
  {
   "cell_type": "markdown",
   "source": [
    "Visualizing all different classes that will be used to predict the type of review. A major class imbalance was discovered."
   ],
   "metadata": {}
  },
  {
   "cell_type": "code",
   "execution_count": 4,
   "source": [
    "counted_labels = Counter(data.label)\n",
    "sorted_counted_labels = {k:v for k,v in sorted(counted_labels.items(), reverse=True, key= lambda item: item[1])}\n",
    "\n",
    "with plt.style.context('seaborn'):\n",
    "    sns.barplot(x=list(sorted_counted_labels.keys()), y=list(sorted_counted_labels.values()))\n",
    "    plt.ylabel('Review Frequency')\n",
    "    plt.xlabel('Review Category')\n",
    "    plt.title('Frequency of Review Category')"
   ],
   "outputs": [
    {
     "output_type": "display_data",
     "data": {
      "image/png": "[encoded data removed]",
      "text/plain": [
       "<Figure size 576x396 with 1 Axes>"
      ]
     },
     "metadata": {}
    }
   ],
   "metadata": {}
  },
  {
   "cell_type": "markdown",
   "source": [
    "The process to clean the data includes removing punctuation, stop words, and lemmatizing words."
   ],
   "metadata": {}
  },
  {
   "cell_type": "code",
   "execution_count": 5,
   "source": [
    "clean_punct_text = []\n",
    "for review in data.text:\n",
    "    review = review.lower()\n",
    "    \n",
    "    review = review.translate(str.maketrans('', '', string.punctuation))\n",
    "    \n",
    "    clean_punct_text.append(review)"
   ],
   "outputs": [],
   "metadata": {}
  },
  {
   "cell_type": "code",
   "execution_count": 6,
   "source": [
    "stopwords = nlp.Defaults.stop_words\n",
    "\n",
    "clean_no_stopwords = []\n",
    "for review in clean_punct_text:\n",
    "    review = set(review.split())\n",
    "    clean_review = review.difference(stopwords)\n",
    "    clean_no_stopwords.append(' '.join(clean_review))\n",
    "    "
   ],
   "outputs": [],
   "metadata": {}
  },
  {
   "cell_type": "markdown",
   "source": [
    "Although the size of the data is smalle, it is kept in mind that a much larger sample than 1,000 will be used. Therefore, a spacy nlp pipeline is built for lemmatization that makes use of all available processes in batch sizes of 2,000."
   ],
   "metadata": {}
  },
  {
   "cell_type": "code",
   "execution_count": 7,
   "source": [
    "lemmatize_reviews = []\n",
    "for doc in nlp.pipe(clean_no_stopwords, disable=['parser','ner','textcat'], n_process=-1, batch_size=2000):\n",
    "    temp_token_holder = [token.lemma_ for token in doc]\n",
    "    lemmatize_reviews.append(' '.join(temp_token_holder))"
   ],
   "outputs": [],
   "metadata": {}
  },
  {
   "cell_type": "markdown",
   "source": [
    "Importing libraries for vectorization, encoding, and spliting dataset."
   ],
   "metadata": {}
  },
  {
   "cell_type": "code",
   "execution_count": 8,
   "source": [
    "from sklearn.feature_extraction.text import CountVectorizer\n",
    "from sklearn.preprocessing import LabelEncoder\n",
    "from sklearn.model_selection import train_test_split\n",
    "count_vect = CountVectorizer()\n",
    "le = LabelEncoder()"
   ],
   "outputs": [],
   "metadata": {}
  },
  {
   "cell_type": "code",
   "execution_count": 9,
   "source": [
    "X_count_vect = count_vect.fit_transform(lemmatize_reviews)\n",
    "y_label = le.fit_transform(data.label)"
   ],
   "outputs": [],
   "metadata": {}
  },
  {
   "cell_type": "code",
   "execution_count": 10,
   "source": [
    "X_train, X_test, y_train, y_test = train_test_split(X_count_vect, y_label, test_size=0.2, random_state=42)"
   ],
   "outputs": [],
   "metadata": {}
  },
  {
   "cell_type": "markdown",
   "source": [
    "To keep in mind the performance of training a dataset with limited resources multinomial naive bayes and a linear model with stochastic gradient descent. Benchmark metrics are imported as well."
   ],
   "metadata": {}
  },
  {
   "cell_type": "code",
   "execution_count": 11,
   "source": [
    "from sklearn.naive_bayes import MultinomialNB\n",
    "from sklearn.linear_model import SGDClassifier\n",
    "from sklearn.metrics import accuracy_score, precision_score, recall_score, f1_score, confusion_matrix, ConfusionMatrixDisplay"
   ],
   "outputs": [],
   "metadata": {}
  },
  {
   "cell_type": "markdown",
   "source": [
    "Creating function to run all benchmarking metrics and visuals."
   ],
   "metadata": {}
  },
  {
   "cell_type": "code",
   "execution_count": 12,
   "source": [
    "def metrics(y_test, y_pred, average='macro', classifier_labels=None):\n",
    "    print('Accuracy: {}'.format(accuracy_score(y_test,y_pred)))\n",
    "    print('Precision: {}'.format(precision_score(y_test,y_pred, average=average, zero_division=0)))\n",
    "    print('Recall: {}'.format(recall_score(y_test,y_pred, average=average, zero_division=0)))\n",
    "    print('F1 Score: {}'.format(f1_score(y_test,y_pred, average=average, zero_division=0)))\n",
    "    if classifier_labels is not None:\n",
    "        cm = confusion_matrix(y_test, y_pred, labels=classifier_labels)\n",
    "        disp = ConfusionMatrixDisplay(confusion_matrix=cm, display_labels=classifier_labels)\n",
    "    else:\n",
    "        cm = confusion_matrix(y_test, y_pred)\n",
    "        disp = ConfusionMatrixDisplay(confusion_matrix=cm)\n",
    "        \n",
    "    disp.plot()"
   ],
   "outputs": [],
   "metadata": {}
  },
  {
   "cell_type": "markdown",
   "source": [
    "# Iteration 1"
   ],
   "metadata": {}
  },
  {
   "cell_type": "markdown",
   "source": [
    "Creating instances of classifiers, fitting them and benchmarking them."
   ],
   "metadata": {}
  },
  {
   "cell_type": "code",
   "execution_count": 13,
   "source": [
    "mnb = MultinomialNB()\n",
    "sgd = SGDClassifier(n_jobs=-1)"
   ],
   "outputs": [],
   "metadata": {}
  },
  {
   "cell_type": "code",
   "execution_count": 14,
   "source": [
    "mnb.fit(X_train,y_train)\n",
    "mnb_prediction = mnb.predict(X_test)"
   ],
   "outputs": [],
   "metadata": {}
  },
  {
   "cell_type": "code",
   "execution_count": 15,
   "source": [
    "metrics(y_test, mnb_prediction, classifier_labels=mnb.classes_)"
   ],
   "outputs": [
    {
     "output_type": "stream",
     "name": "stdout",
     "text": [
      "Accuracy: 0.899\n",
      "Precision: 0.3286318150448585\n",
      "Recall: 0.2835230521336868\n",
      "F1 Score: 0.29289557772344\n"
     ]
    },
    {
     "output_type": "display_data",
     "data": {
      "image/png": "[encoded data removed]",
      "text/plain": [
       "<Figure size 432x288 with 2 Axes>"
      ]
     },
     "metadata": {
      "needs_background": "light"
     }
    }
   ],
   "metadata": {}
  },
  {
   "cell_type": "code",
   "execution_count": 16,
   "source": [
    "sgd.fit(X_train,y_train)\n",
    "sgd_prediction = sgd.predict(X_test)"
   ],
   "outputs": [],
   "metadata": {}
  },
  {
   "cell_type": "code",
   "execution_count": 17,
   "source": [
    "metrics(y_test, sgd_prediction, classifier_labels=sgd.classes_)"
   ],
   "outputs": [
    {
     "output_type": "stream",
     "name": "stdout",
     "text": [
      "Accuracy: 0.8835\n",
      "Precision: 0.30248602596465923\n",
      "Recall: 0.29216435365663496\n",
      "F1 Score: 0.29587793046511285\n"
     ]
    },
    {
     "output_type": "display_data",
     "data": {
      "image/png": "[encoded data removed]",
      "text/plain": [
       "<Figure size 432x288 with 2 Axes>"
      ]
     },
     "metadata": {
      "needs_background": "light"
     }
    }
   ],
   "metadata": {}
  },
  {
   "cell_type": "markdown",
   "source": [
    "# Iteration 2"
   ],
   "metadata": {}
  },
  {
   "cell_type": "markdown",
   "source": [
    "Using an undersampling strategy to balance data."
   ],
   "metadata": {}
  },
  {
   "cell_type": "code",
   "execution_count": 18,
   "source": [
    "from imblearn.over_sampling import RandomOverSampler\n",
    "ros = RandomOverSampler()"
   ],
   "outputs": [],
   "metadata": {}
  },
  {
   "cell_type": "code",
   "execution_count": 19,
   "source": [
    "X_train_oversample, y_train_oversample = ros.fit_resample(X_train,y_train)"
   ],
   "outputs": [],
   "metadata": {}
  },
  {
   "cell_type": "code",
   "execution_count": 20,
   "source": [
    "mnb_oversample = MultinomialNB()\n",
    "sgd_oversample = SGDClassifier(n_jobs=-1)"
   ],
   "outputs": [],
   "metadata": {}
  },
  {
   "cell_type": "code",
   "execution_count": 21,
   "source": [
    "mnb_oversample.fit(X_train_oversample, y_train_oversample)\n",
    "mnb_oversample_predictions = mnb_oversample.predict(X_test)"
   ],
   "outputs": [],
   "metadata": {}
  },
  {
   "cell_type": "code",
   "execution_count": 22,
   "source": [
    "metrics(y_test,mnb_oversample_predictions, classifier_labels=mnb_oversample.classes_)"
   ],
   "outputs": [
    {
     "output_type": "stream",
     "name": "stdout",
     "text": [
      "Accuracy: 0.8075\n",
      "Precision: 0.28612620661705107\n",
      "Recall: 0.32143822443993975\n",
      "F1 Score: 0.29360845972223043\n"
     ]
    },
    {
     "output_type": "display_data",
     "data": {
      "image/png": "[encoded data removed]",
      "text/plain": [
       "<Figure size 432x288 with 2 Axes>"
      ]
     },
     "metadata": {
      "needs_background": "light"
     }
    }
   ],
   "metadata": {}
  },
  {
   "cell_type": "code",
   "execution_count": 23,
   "source": [
    "sgd_oversample.fit(X_train_oversample, y_train_oversample)\n",
    "sgd_oversample_predictions = sgd_oversample.predict(X_test)"
   ],
   "outputs": [],
   "metadata": {}
  },
  {
   "cell_type": "code",
   "execution_count": 24,
   "source": [
    "metrics(y_test,sgd_oversample_predictions, classifier_labels=sgd_oversample.classes_)"
   ],
   "outputs": [
    {
     "output_type": "stream",
     "name": "stdout",
     "text": [
      "Accuracy: 0.8785\n",
      "Precision: 0.30169947486644\n",
      "Recall: 0.2993944591714746\n",
      "F1 Score: 0.30030516637993215\n"
     ]
    },
    {
     "output_type": "display_data",
     "data": {
      "image/png": "[encoded data removed]",
      "text/plain": [
       "<Figure size 432x288 with 2 Axes>"
      ]
     },
     "metadata": {
      "needs_background": "light"
     }
    }
   ],
   "metadata": {}
  },
  {
   "cell_type": "markdown",
   "source": [
    "# Iteration 3"
   ],
   "metadata": {}
  },
  {
   "cell_type": "markdown",
   "source": [
    "Reframing the quetion to \"Will this review receive a star?\""
   ],
   "metadata": {}
  },
  {
   "cell_type": "markdown",
   "source": [
    "Using complement naive bayes to create a binary model."
   ],
   "metadata": {}
  },
  {
   "cell_type": "code",
   "execution_count": 25,
   "source": [
    "from sklearn.naive_bayes import ComplementNB"
   ],
   "outputs": [],
   "metadata": {}
  },
  {
   "cell_type": "code",
   "execution_count": 26,
   "source": [
    "y_label_binary = [1 if i == 'stars' else 0 for i in data.label]"
   ],
   "outputs": [],
   "metadata": {}
  },
  {
   "cell_type": "code",
   "execution_count": 27,
   "source": [
    "X_train_binary, X_test_binary, y_train_binary, y_test_binary = train_test_split(X_count_vect, y_label_binary, test_size=0.2, random_state=42)"
   ],
   "outputs": [],
   "metadata": {}
  },
  {
   "cell_type": "code",
   "execution_count": 28,
   "source": [
    "cnb = ComplementNB()"
   ],
   "outputs": [],
   "metadata": {}
  },
  {
   "cell_type": "code",
   "execution_count": 29,
   "source": [
    "cnb.fit(X_train_binary, y_train_binary)\n",
    "cnb_predictions = cnb.predict(X_test_binary)"
   ],
   "outputs": [],
   "metadata": {}
  },
  {
   "cell_type": "code",
   "execution_count": 30,
   "source": [
    "metrics(y_test_binary, cnb_predictions, average='binary', classifier_labels=cnb.classes_)"
   ],
   "outputs": [
    {
     "output_type": "stream",
     "name": "stdout",
     "text": [
      "Accuracy: 0.875\n",
      "Precision: 0.9264305177111717\n",
      "Recall: 0.9366391184573003\n",
      "F1 Score: 0.9315068493150686\n"
     ]
    },
    {
     "output_type": "display_data",
     "data": {
      "image/png": "[encoded data removed]",
      "text/plain": [
       "<Figure size 432x288 with 2 Axes>"
      ]
     },
     "metadata": {
      "needs_background": "light"
     }
    }
   ],
   "metadata": {}
  },
  {
   "cell_type": "markdown",
   "source": [
    "# Iteration 4"
   ],
   "metadata": {}
  },
  {
   "cell_type": "markdown",
   "source": [
    "Continuation of binary modelling using term frequency inverse document frequency as a vectorizer."
   ],
   "metadata": {}
  },
  {
   "cell_type": "code",
   "execution_count": 31,
   "source": [
    "from sklearn.feature_extraction.text import TfidfTransformer\n",
    "tfid = TfidfTransformer()"
   ],
   "outputs": [],
   "metadata": {}
  },
  {
   "cell_type": "code",
   "execution_count": 32,
   "source": [
    "x_tfid = tfid.fit_transform(X_count_vect)"
   ],
   "outputs": [],
   "metadata": {}
  },
  {
   "cell_type": "code",
   "execution_count": 33,
   "source": [
    "X_train_tfid, X_test_tfid, y_train_tfid, y_test_tfid = train_test_split(x_tfid, y_label_binary, test_size=0.2, random_state=42)"
   ],
   "outputs": [],
   "metadata": {}
  },
  {
   "cell_type": "code",
   "execution_count": 34,
   "source": [
    "tfid_cnb = ComplementNB()"
   ],
   "outputs": [],
   "metadata": {}
  },
  {
   "cell_type": "code",
   "execution_count": 35,
   "source": [
    "tfid_cnb.fit(X_train_tfid, y_train_tfid)\n",
    "tfid_cnb_preds = tfid_cnb.predict(X_test_tfid)"
   ],
   "outputs": [],
   "metadata": {}
  },
  {
   "cell_type": "code",
   "execution_count": 36,
   "source": [
    "metrics(y_test_tfid, tfid_cnb_preds, average='binary')"
   ],
   "outputs": [
    {
     "output_type": "stream",
     "name": "stdout",
     "text": [
      "Accuracy: 0.902\n",
      "Precision: 0.9069884364002011\n",
      "Recall: 0.9939393939393939\n",
      "F1 Score: 0.9484752891692955\n"
     ]
    },
    {
     "output_type": "display_data",
     "data": {
      "image/png": "[encoded data removed]",
      "text/plain": [
       "<Figure size 432x288 with 2 Axes>"
      ]
     },
     "metadata": {
      "needs_background": "light"
     }
    }
   ],
   "metadata": {}
  },
  {
   "cell_type": "markdown",
   "source": [
    "# Iteration 5"
   ],
   "metadata": {}
  },
  {
   "cell_type": "markdown",
   "source": [
    "Continuation of binary model with TF-IDF and using an under sampling strategy."
   ],
   "metadata": {}
  },
  {
   "cell_type": "code",
   "execution_count": 37,
   "source": [
    "from imblearn.under_sampling import RandomUnderSampler\n",
    "rus = RandomUnderSampler()"
   ],
   "outputs": [],
   "metadata": {}
  },
  {
   "cell_type": "code",
   "execution_count": 38,
   "source": [
    "x_train_tfid_u, y_train_tfid_u = rus.fit_resample(X_train_tfid, y_train_tfid)"
   ],
   "outputs": [],
   "metadata": {}
  },
  {
   "cell_type": "code",
   "execution_count": 39,
   "source": [
    "tfid_cnb.fit(x_train_tfid_u, y_train_tfid_u)\n",
    "tfid_cnb_preds = tfid_cnb.predict(X_test_tfid)"
   ],
   "outputs": [],
   "metadata": {}
  },
  {
   "cell_type": "code",
   "execution_count": 40,
   "source": [
    "metrics(y_test_tfid, tfid_cnb_preds,'binary')"
   ],
   "outputs": [
    {
     "output_type": "stream",
     "name": "stdout",
     "text": [
      "Accuracy: 0.5355\n",
      "Precision: 0.9682875264270613\n",
      "Recall: 0.5046831955922865\n",
      "F1 Score: 0.6635277073524085\n"
     ]
    },
    {
     "output_type": "display_data",
     "data": {
      "image/png": "[encoded data removed]",
      "text/plain": [
       "<Figure size 432x288 with 2 Axes>"
      ]
     },
     "metadata": {
      "needs_background": "light"
     }
    }
   ],
   "metadata": {}
  },
  {
   "cell_type": "markdown",
   "source": [
    "# Iteration 6"
   ],
   "metadata": {}
  },
  {
   "cell_type": "markdown",
   "source": [
    "Using both an over sampling and under sampling strategy to increase the number of true negatives being classified correctly."
   ],
   "metadata": {}
  },
  {
   "cell_type": "code",
   "execution_count": 41,
   "source": [
    "ros = RandomOverSampler(sampling_strategy=.8)\n",
    "rus = RandomUnderSampler(sampling_strategy=.9)"
   ],
   "outputs": [],
   "metadata": {}
  },
  {
   "cell_type": "code",
   "execution_count": 42,
   "source": [
    "X_train_combine, y_train_combine = ros.fit_resample(X_train_tfid, y_train_tfid)\n",
    "X_train_combine, y_train_combine = rus.fit_resample(X_train_tfid, y_train_tfid)"
   ],
   "outputs": [],
   "metadata": {}
  },
  {
   "cell_type": "code",
   "execution_count": 43,
   "source": [
    "tfid_cnb.fit(X_train_combine, y_train_combine)\n",
    "tfid_cnb_preds = tfid_cnb.predict(X_test_tfid)"
   ],
   "outputs": [],
   "metadata": {}
  },
  {
   "cell_type": "code",
   "execution_count": 44,
   "source": [
    "metrics(y_test_tfid, tfid_cnb_preds,'binary')"
   ],
   "outputs": [
    {
     "output_type": "stream",
     "name": "stdout",
     "text": [
      "Accuracy: 0.674\n",
      "Precision: 0.9655724579663731\n",
      "Recall: 0.6644628099173554\n",
      "F1 Score: 0.787206266318538\n"
     ]
    },
    {
     "output_type": "display_data",
     "data": {
      "image/png": "[encoded data removed]",
      "text/plain": [
       "<Figure size 432x288 with 2 Axes>"
      ]
     },
     "metadata": {
      "needs_background": "light"
     }
    }
   ],
   "metadata": {}
  }
 ],
 "metadata": {
  "orig_nbformat": 4,
  "language_info": {
   "name": "python",
   "version": "3.8.7",
   "mimetype": "text/x-python",
   "codemirror_mode": {
    "name": "ipython",
    "version": 3
   },
   "pygments_lexer": "ipython3",
   "nbconvert_exporter": "python",
   "file_extension": ".py"
  },
  "kernelspec": {
   "name": "python3",
   "display_name": "Python 3.8.7 64-bit"
  },
  "interpreter": {
   "hash": "7e85ec9bf098c5427e45e2f632dcd4eeff803b007e1abd287d600879388709c1"
  }
 },
 "nbformat": 4,
 "nbformat_minor": 2
}